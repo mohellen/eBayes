{
 "cells": [
  {
   "cell_type": "code",
   "execution_count": 24,
   "metadata": {
    "collapsed": true
   },
   "outputs": [],
   "source": [
    "%matplotlib inline\n",
    "import matplotlib\n",
    "import numpy as np\n",
    "import matplotlib.pyplot as plt\n",
    "import linecache"
   ]
  },
  {
   "cell_type": "code",
   "execution_count": 25,
   "metadata": {
    "collapsed": false
   },
   "outputs": [
    {
     "name": "stdout",
     "output_type": "stream",
     "text": [
      "maxpos = -0.100000\n",
      "maxrank = -1\n"
     ]
    },
    {
     "ename": "FileNotFoundError",
     "evalue": "[Errno 2] No such file or directory: '/media/data/nfs/workspace/ibayes/output_arc/obs4_asgi4/asgi_mcmc_pt_r-1.dat'",
     "output_type": "error",
     "traceback": [
      "\u001b[0;31m---------------------------------------------------------------------------\u001b[0m",
      "\u001b[0;31mFileNotFoundError\u001b[0m                         Traceback (most recent call last)",
      "\u001b[0;32m<ipython-input-25-635f0242154f>\u001b[0m in \u001b[0;36m<module>\u001b[0;34m()\u001b[0m\n\u001b[1;32m     27\u001b[0m \u001b[0msamples\u001b[0m \u001b[0;34m=\u001b[0m \u001b[0;34m[\u001b[0m\u001b[0;34m]\u001b[0m\u001b[0;34m\u001b[0m\u001b[0m\n\u001b[1;32m     28\u001b[0m \u001b[0mfile\u001b[0m \u001b[0;34m=\u001b[0m \u001b[0mbasepath\u001b[0m \u001b[0;34m+\u001b[0m \u001b[0mfprefix\u001b[0m \u001b[0;34m+\u001b[0m \u001b[0mstr\u001b[0m\u001b[0;34m(\u001b[0m\u001b[0mmaxrank\u001b[0m\u001b[0;34m)\u001b[0m \u001b[0;34m+\u001b[0m \u001b[0mfsuffix\u001b[0m\u001b[0;34m\u001b[0m\u001b[0m\n\u001b[0;32m---> 29\u001b[0;31m \u001b[0mf\u001b[0m \u001b[0;34m=\u001b[0m \u001b[0mopen\u001b[0m\u001b[0;34m(\u001b[0m\u001b[0mfile\u001b[0m\u001b[0;34m,\u001b[0m \u001b[0;34m'r'\u001b[0m\u001b[0;34m)\u001b[0m\u001b[0;34m\u001b[0m\u001b[0m\n\u001b[0m\u001b[1;32m     30\u001b[0m \u001b[0;32mfor\u001b[0m \u001b[0mi\u001b[0m\u001b[0;34m,\u001b[0m \u001b[0mline\u001b[0m \u001b[0;32min\u001b[0m \u001b[0menumerate\u001b[0m\u001b[0;34m(\u001b[0m\u001b[0mf\u001b[0m\u001b[0;34m,\u001b[0m\u001b[0;36m1\u001b[0m\u001b[0;34m)\u001b[0m\u001b[0;34m:\u001b[0m\u001b[0;34m\u001b[0m\u001b[0m\n\u001b[1;32m     31\u001b[0m     \u001b[0;32mif\u001b[0m \u001b[0;34m(\u001b[0m\u001b[0mi\u001b[0m \u001b[0;34m>\u001b[0m \u001b[0mburnin\u001b[0m\u001b[0;34m)\u001b[0m \u001b[0;32mand\u001b[0m \u001b[0;34m(\u001b[0m\u001b[0;34m\"MAXPOS\"\u001b[0m \u001b[0;32mnot\u001b[0m \u001b[0;32min\u001b[0m \u001b[0mline\u001b[0m\u001b[0;34m)\u001b[0m\u001b[0;34m:\u001b[0m\u001b[0;34m\u001b[0m\u001b[0m\n",
      "\u001b[0;31mFileNotFoundError\u001b[0m: [Errno 2] No such file or directory: '/media/data/nfs/workspace/ibayes/output_arc/obs4_asgi4/asgi_mcmc_pt_r-1.dat'"
     ]
    }
   ],
   "source": [
    "# set data path\n",
    "basepath = \"/media/data/nfs/workspace/ibayes/output_arc/obs4_asgi4/\"\n",
    "fprefix = \"asgi_mcmc_pt_r\"\n",
    "fsuffix = \".dat\"\n",
    "\n",
    "# discard first X samples\n",
    "burnin = 10000\n",
    "\n",
    "# determine which chain has the global maxpos\n",
    "maxrank = -1\n",
    "maxpos = -0.1\n",
    "for rank in range(0,20):\n",
    "    file = basepath + fprefix + str(rank) + fsuffix\n",
    "    f = open(file, 'r')\n",
    "    for i, line in enumerate(f,1):\n",
    "        if \"MAXPOS\" in line:\n",
    "            larr = line.split()\n",
    "            pos = float(larr[-1])\n",
    "            if (pos > maxpos):\n",
    "                maxpos = pos\n",
    "                maxrank = rank\n",
    "    f.close()\n",
    "print(\"maxpos = %f\" % maxpos)\n",
    "print(\"maxrank = %d\" % maxrank)\n",
    "                \n",
    "# get samples from the maxrank file\n",
    "samples = []\n",
    "file = basepath + fprefix + str(maxrank) + fsuffix\n",
    "f = open(file, 'r') \n",
    "for i, line in enumerate(f,1):\n",
    "    if (i > burnin) and (\"MAXPOS\" not in line):\n",
    "        larr = line.split()\n",
    "        sam = [] \n",
    "        for x in larr:\n",
    "            sam += [float(x)]\n",
    "        samples += [sam]\n",
    "f.close()\n",
    "samples = np.array(samples)"
   ]
  },
  {
   "cell_type": "code",
   "execution_count": null,
   "metadata": {
    "collapsed": false
   },
   "outputs": [],
   "source": [
    "# bins for histogram\n",
    "binx = np.linspace(0, 10, 100)\n",
    "biny = np.linspace(0, 2, 100)\n",
    "\n",
    "# Generate histogram\n",
    "fig = plt.figure()\n",
    "ax = fig.gca()\n",
    "xout = ax.hist(samples[:,0], binx)\n",
    "yout = ax.hist(samples[:,1], biny)\n",
    "\n",
    "freq = xout[0].tolist()\n",
    "bins = xout[1].tolist()\n",
    "idx = freq.index(max(freq))\n",
    "value = bins[idx]\n",
    "print(\"Most possible x1: %f\" % value)\n",
    "\n",
    "freq = yout[0].tolist()\n",
    "bins = yout[1].tolist()\n",
    "idx = freq.index(max(freq))\n",
    "value = bins[idx]\n",
    "print(\"Most possible y1: %f\" % value)"
   ]
  },
  {
   "cell_type": "code",
   "execution_count": null,
   "metadata": {
    "collapsed": false
   },
   "outputs": [],
   "source": [
    "# Generate histogram\n",
    "fig = plt.figure()\n",
    "ax = fig.gca()\n",
    "xout = ax.hist(samples[:,2], binx)\n",
    "yout = ax.hist(samples[:,3], biny)\n",
    "\n",
    "freq = xout[0].tolist()\n",
    "bins = xout[1].tolist()\n",
    "idx = freq.index(max(freq))\n",
    "value = bins[idx]\n",
    "print(\"Most possible x2: %f\" % value)\n",
    "\n",
    "freq = yout[0].tolist()\n",
    "bins = yout[1].tolist()\n",
    "idx = freq.index(max(freq))\n",
    "value = bins[idx]\n",
    "print(\"Most possible y2: %f\" % value)"
   ]
  },
  {
   "cell_type": "code",
   "execution_count": null,
   "metadata": {
    "collapsed": false
   },
   "outputs": [],
   "source": [
    "# Generate histogram\n",
    "fig = plt.figure()\n",
    "ax = fig.gca()\n",
    "xout = ax.hist(samples[:,4], binx)\n",
    "yout = ax.hist(samples[:,5], biny)\n",
    "\n",
    "freq = xout[0].tolist()\n",
    "bins = xout[1].tolist()\n",
    "idx = freq.index(max(freq))\n",
    "value = bins[idx]\n",
    "print(\"Most possible x3: %f\" % value)\n",
    "\n",
    "freq = yout[0].tolist()\n",
    "bins = yout[1].tolist()\n",
    "idx = freq.index(max(freq))\n",
    "value = bins[idx]\n",
    "print(\"Most possible y3: %f\" % value)"
   ]
  },
  {
   "cell_type": "code",
   "execution_count": null,
   "metadata": {
    "collapsed": false
   },
   "outputs": [],
   "source": [
    "# Generate histogram\n",
    "fig = plt.figure()\n",
    "ax = fig.gca()\n",
    "xout = ax.hist(samples[:,6], binx)\n",
    "yout = ax.hist(samples[:,7], biny)\n",
    "\n",
    "freq = xout[0].tolist()\n",
    "bins = xout[1].tolist()\n",
    "idx = freq.index(max(freq))\n",
    "value = bins[idx]\n",
    "print(\"Most possible x4: %f\" % value)\n",
    "\n",
    "freq = yout[0].tolist()\n",
    "bins = yout[1].tolist()\n",
    "idx = freq.index(max(freq))\n",
    "value = bins[idx]\n",
    "print(\"Most possible y4: %f\" % value)"
   ]
  },
  {
   "cell_type": "code",
   "execution_count": null,
   "metadata": {
    "collapsed": true
   },
   "outputs": [],
   "source": []
  }
 ],
 "metadata": {
  "kernelspec": {
   "display_name": "Python 3",
   "language": "python",
   "name": "python3"
  },
  "language_info": {
   "codemirror_mode": {
    "name": "ipython",
    "version": 3
   },
   "file_extension": ".py",
   "mimetype": "text/x-python",
   "name": "python",
   "nbconvert_exporter": "python",
   "pygments_lexer": "ipython3",
   "version": "3.5.2"
  }
 },
 "nbformat": 4,
 "nbformat_minor": 1
}
