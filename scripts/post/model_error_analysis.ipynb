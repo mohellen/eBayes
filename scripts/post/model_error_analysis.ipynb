{
 "cells": [
  {
   "cell_type": "code",
   "execution_count": 2,
   "metadata": {
    "collapsed": false
   },
   "outputs": [
    {
     "name": "stderr",
     "output_type": "stream",
     "text": [
      "/usr/lib/python3/dist-packages/matplotlib/font_manager.py:273: UserWarning: Matplotlib is building the font cache using fc-list. This may take a moment.\n",
      "  warnings.warn('Matplotlib is building the font cache using fc-list. This may take a moment.')\n",
      "/usr/lib/python3/dist-packages/matplotlib/font_manager.py:273: UserWarning: Matplotlib is building the font cache using fc-list. This may take a moment.\n",
      "  warnings.warn('Matplotlib is building the font cache using fc-list. This may take a moment.')\n"
     ]
    }
   ],
   "source": [
    "%matplotlib inline\n",
    "import matplotlib\n",
    "import numpy as np\n",
    "import matplotlib.pyplot as plt\n",
    "import linecache"
   ]
  },
  {
   "cell_type": "code",
   "execution_count": 3,
   "metadata": {
    "collapsed": true
   },
   "outputs": [],
   "source": [
    "# set data path\n",
    "basepath = \"/media/data/nfs/workspace/ibayes/output_arc/obs4/ssgi6/\"\n",
    "consolefile = basepath + \"/console.out\""
   ]
  },
  {
   "cell_type": "code",
   "execution_count": 4,
   "metadata": {
    "collapsed": false
   },
   "outputs": [
    {
     "name": "stdout",
     "output_type": "stream",
     "text": [
      "[31745]\n",
      "[31745]\n",
      "[553.19481]\n",
      "[27.622426]\n"
     ]
    }
   ],
   "source": [
    "num_gps = []\n",
    "gps_added = []\n",
    "gps_compute_time = []\n",
    "model_err = []\n",
    "\n",
    "f = open(consolefile, 'r')\n",
    "for i, line in enumerate(f,1):\n",
    "    if \"Total grid points:\" in line:\n",
    "        larr = line.split()\n",
    "        num_gps += [ int(larr[-1]) ]\n",
    "        print(num_gps)\n",
    "        \n",
    "    if \"Grid points added:\" in line:\n",
    "        larr = line.split()\n",
    "        gps_added += [ int(larr[-1]) ]\n",
    "        print(gps_added)\n",
    "\n",
    "    if \"Ranks: computed\" in line:\n",
    "        larr = line.split()\n",
    "        gps_compute_time += [ float(larr[-2]) ]\n",
    "        print(gps_time)\n",
    "        \n",
    "    if \"model error:\" in line:\n",
    "        larr = line.split()\n",
    "        model_err += [ float(larr[-1]) ]\n",
    "        print(model_err)\n",
    "\n",
    "f.close()"
   ]
  },
  {
   "cell_type": "code",
   "execution_count": null,
   "metadata": {
    "collapsed": true
   },
   "outputs": [],
   "source": []
  }
 ],
 "metadata": {
  "kernelspec": {
   "display_name": "Python 3",
   "language": "python",
   "name": "python3"
  },
  "language_info": {
   "codemirror_mode": {
    "name": "ipython",
    "version": 3
   },
   "file_extension": ".py",
   "mimetype": "text/x-python",
   "name": "python",
   "nbconvert_exporter": "python",
   "pygments_lexer": "ipython3",
   "version": "3.5.2"
  }
 },
 "nbformat": 4,
 "nbformat_minor": 1
}
